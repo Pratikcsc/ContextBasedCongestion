{
  "nbformat": 4,
  "nbformat_minor": 0,
  "metadata": {
    "colab": {
      "name": "MyTweetProject",
      "version": "0.3.2",
      "provenance": [],
      "collapsed_sections": [],
      "include_colab_link": true
    },
    "kernelspec": {
      "name": "python3",
      "display_name": "Python 3"
    }
  },
  "cells": [
    {
      "cell_type": "markdown",
      "metadata": {
        "id": "view-in-github",
        "colab_type": "text"
      },
      "source": [
        "<a href=\"https://colab.research.google.com/github/Pratikcsc/ContextBasedCongestion/blob/master/MyTweetProject.ipynb\" target=\"_parent\"><img src=\"https://colab.research.google.com/assets/colab-badge.svg\" alt=\"Open In Colab\"/></a>"
      ]
    },
    {
      "cell_type": "code",
      "metadata": {
        "id": "a7WYyMjkuPIS",
        "colab_type": "code",
        "outputId": "ac1c99e6-2bd4-4c7c-8495-0d26f295b1a7",
        "colab": {
          "base_uri": "https://localhost:8080/",
          "height": 35
        }
      },
      "source": [
        "print(\"Hello World\")"
      ],
      "execution_count": 0,
      "outputs": [
        {
          "output_type": "stream",
          "text": [
            "Hello World\n"
          ],
          "name": "stdout"
        }
      ]
    },
    {
      "cell_type": "code",
      "metadata": {
        "id": "10ugvAcxxwbH",
        "colab_type": "code",
        "outputId": "889a050b-a4cd-40d3-ed73-c484ddd3d11f",
        "colab": {
          "base_uri": "https://localhost:8080/",
          "height": 246
        }
      },
      "source": [
        "if __name__ == \"__main__\":\n",
        "#     options = get_options()\n",
        "\n",
        "    # this script has been called from the command line. It will start sumo as a\n",
        "    # server, then connect and run\n",
        "    if options.nogui:\n",
        "        sumoBinary = checkBinary('sumo')\n",
        "    else:\n",
        "        sumoBinary = checkBinary('sumo-gui')\n",
        "\n",
        "    # first, generate the route file for this simulation\n",
        "#     generate_routefile()\n",
        "\n",
        "    # this is the normal way of using traci. sumo is started as a\n",
        "    # subprocess and then the python script connects and runs\n",
        "    traci.start([sumoBinary, \"-c\", \"data/cross.sumocfg\",\n",
        "                              \"--tripinfo-output\", \"tripinfo.xml\"])\n",
        "    run()"
      ],
      "execution_count": 0,
      "outputs": [
        {
          "output_type": "error",
          "ename": "NameError",
          "evalue": "ignored",
          "traceback": [
            "\u001b[0;31m---------------------------------------------------------------------------\u001b[0m",
            "\u001b[0;31mNameError\u001b[0m                                 Traceback (most recent call last)",
            "\u001b[0;32m<ipython-input-3-6570852d5fbb>\u001b[0m in \u001b[0;36m<module>\u001b[0;34m()\u001b[0m\n\u001b[1;32m      4\u001b[0m     \u001b[0;31m# this script has been called from the command line. It will start sumo as a\u001b[0m\u001b[0;34m\u001b[0m\u001b[0;34m\u001b[0m\u001b[0;34m\u001b[0m\u001b[0m\n\u001b[1;32m      5\u001b[0m     \u001b[0;31m# server, then connect and run\u001b[0m\u001b[0;34m\u001b[0m\u001b[0;34m\u001b[0m\u001b[0;34m\u001b[0m\u001b[0m\n\u001b[0;32m----> 6\u001b[0;31m     \u001b[0;32mif\u001b[0m \u001b[0moptions\u001b[0m\u001b[0;34m.\u001b[0m\u001b[0mnogui\u001b[0m\u001b[0;34m:\u001b[0m\u001b[0;34m\u001b[0m\u001b[0;34m\u001b[0m\u001b[0m\n\u001b[0m\u001b[1;32m      7\u001b[0m         \u001b[0msumoBinary\u001b[0m \u001b[0;34m=\u001b[0m \u001b[0mcheckBinary\u001b[0m\u001b[0;34m(\u001b[0m\u001b[0;34m'sumo'\u001b[0m\u001b[0;34m)\u001b[0m\u001b[0;34m\u001b[0m\u001b[0;34m\u001b[0m\u001b[0m\n\u001b[1;32m      8\u001b[0m     \u001b[0;32melse\u001b[0m\u001b[0;34m:\u001b[0m\u001b[0;34m\u001b[0m\u001b[0;34m\u001b[0m\u001b[0m\n",
            "\u001b[0;31mNameError\u001b[0m: name 'options' is not defined"
          ]
        }
      ]
    },
    {
      "cell_type": "markdown",
      "metadata": {
        "id": "oKdlK0ESvoan",
        "colab_type": "text"
      },
      "source": [
        "# Header"
      ]
    }
  ]
}