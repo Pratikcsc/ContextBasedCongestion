{
  "nbformat": 4,
  "nbformat_minor": 0,
  "metadata": {
    "colab": {
      "name": "ecoli.ipynb",
      "provenance": [],
      "include_colab_link": true
    },
    "kernelspec": {
      "name": "python3",
      "display_name": "Python 3"
    }
  },
  "cells": [
    {
      "cell_type": "markdown",
      "metadata": {
        "id": "view-in-github",
        "colab_type": "text"
      },
      "source": [
        "<a href=\"https://colab.research.google.com/github/Pratikcsc/ContextBasedCongestion/blob/master/ecoli.ipynb\" target=\"_parent\"><img src=\"https://colab.research.google.com/assets/colab-badge.svg\" alt=\"Open In Colab\"/></a>"
      ]
    },
    {
      "cell_type": "code",
      "metadata": {
        "id": "21f1v7mZ7uJb",
        "colab_type": "code",
        "outputId": "3b0e158b-b618-46d7-f6af-902e128b3676",
        "colab": {
          "base_uri": "https://localhost:8080/",
          "height": 34
        }
      },
      "source": [
        "# GET X\n",
        "import pandas as pd\n",
        "\n",
        "data_X = pd.read_csv('tweet_vector.csv')\n",
        "\n",
        "data_X.shape\n"
      ],
      "execution_count": 0,
      "outputs": [
        {
          "output_type": "execute_result",
          "data": {
            "text/plain": [
              "(8329, 100)"
            ]
          },
          "metadata": {
            "tags": []
          },
          "execution_count": 15
        }
      ]
    },
    {
      "cell_type": "code",
      "metadata": {
        "id": "VWQah2uMnlb_",
        "colab_type": "code",
        "outputId": "0f0c7e5b-226b-4716-b45c-690e30d68471",
        "colab": {
          "base_uri": "https://localhost:8080/",
          "height": 34
        }
      },
      "source": [
        "# Get Y\n",
        "\n",
        "data_Y = pd.read_csv(\"ground_ruth_classLabel.csv\")\n",
        "\n",
        "data_Y.shape"
      ],
      "execution_count": 0,
      "outputs": [
        {
          "output_type": "execute_result",
          "data": {
            "text/plain": [
              "(8329, 1)"
            ]
          },
          "metadata": {
            "tags": []
          },
          "execution_count": 16
        }
      ]
    },
    {
      "cell_type": "code",
      "metadata": {
        "id": "hS2YskyhK6OZ",
        "colab_type": "code",
        "colab": {}
      },
      "source": [
        "# encoding column 'c7'\n",
        "import numpy as np\n",
        "\n",
        "def allLabels(data_Y):\n",
        "  labels = []\n",
        "  #count = np.zeros(10)\n",
        "  for i in data_Y.iloc[:,0]:\n",
        "    if i not in labels:\n",
        "      labels.append(i)\n",
        "  return labels"
      ],
      "execution_count": 0,
      "outputs": []
    },
    {
      "cell_type": "code",
      "metadata": {
        "id": "xWUgmiZEJeT4",
        "colab_type": "code",
        "colab": {}
      },
      "source": [
        "from sklearn.svm import SVC\n",
        "from sklearn.linear_model import LogisticRegression\n",
        "from sklearn.model_selection import train_test_split\n",
        "from sklearn.linear_model import SGDClassifier\n",
        "from sklearn.naive_bayes import GaussianNB\n",
        "from sklearn.naive_bayes import MultinomialNB\n",
        "\n",
        "def GaussianNBModel(X_train, X_test, y_train, y_test):\n",
        "  model = GaussianNB()\n",
        "  \n",
        "  model.fit(X_train, y_train)\n",
        "  #print(\"Gaussian NB Regression Score = {}\".format(model.score(X_train,y_train)))\n",
        "  \n",
        "  prediction = model.predict(X_test)\n",
        "  return (y_test, prediction)\n",
        "  \n",
        "  \n",
        "def LogisticRegressionModel(X_train, X_test, y_train, y_test):\n",
        "  model = LogisticRegression()\n",
        "  \n",
        "  model.fit(X_train,y_train)\n",
        "  \n",
        "  #print(\"Logistic Regression Score = {}\".format(model.score(X_train,y_train)))\n",
        "  \n",
        "  prediction = model.predict(X_test)\n",
        "  return (y_test, prediction)\n",
        "  \n",
        "  \n",
        "def SVCModel(X_train, X_test, y_train, y_test):\n",
        "  model = SVC()\n",
        "  model.fit(X_train,y_train)\n",
        "  \n",
        "  #print(\"SVC Score = {}\".format(model.score(X_train,y_train)))\n",
        "  \n",
        "  prediction = model.predict(X_test)\n",
        "  return (y_test, prediction)\n",
        "\n",
        "def SGDClassifierModel(X_train, X_test, y_train, y_test):\n",
        "  model = SGDClassifier(loss=\"hinge\", shuffle = True)\n",
        "  #sgdModel = SGDClassifier(loss=\"hinge\")\n",
        "  model.fit(X_train,y_train)\n",
        "  \n",
        "  score = model.score(X_train, y_train)\n",
        "  \n",
        "  #print(\"SGD Score = {}\".format(score))\n",
        "  \n",
        "  prediction = model.predict(X_test)\n",
        "  \n",
        "  return (y_test, prediction)\n",
        "  \n"
      ],
      "execution_count": 0,
      "outputs": []
    },
    {
      "cell_type": "code",
      "metadata": {
        "id": "klEbtb0-9xcU",
        "colab_type": "code",
        "outputId": "49ce7bd0-6a0c-495e-a991-c2fccc14b627",
        "colab": {
          "base_uri": "https://localhost:8080/",
          "height": 51
        }
      },
      "source": [
        "# MAIN EXECUTABLE CODE SNIPPET\n",
        "import warnings\n",
        "\n",
        "warnings.filterwarnings('ignore')\n",
        "\n",
        "X_train, X_test, y_train, y_test = train_test_split(data_X, data_Y)\n",
        "\n",
        "print(\"Length of training X = {} and training Y = {}\\nLength of test X = {} and test Y = {}\".format(len(X_train), len(y_train), len(X_test), len(y_test)))\n",
        "\n",
        "#labels = allLabels()\n"
      ],
      "execution_count": 0,
      "outputs": [
        {
          "output_type": "stream",
          "text": [
            "Length of training X = 6246 and training Y = 6246\n",
            "Length of test X = 2083 and test Y = 2083\n"
          ],
          "name": "stdout"
        }
      ]
    },
    {
      "cell_type": "code",
      "metadata": {
        "id": "PvRw7jBQO-wh",
        "colab_type": "code",
        "colab": {}
      },
      "source": [
        "from sklearn.metrics import confusion_matrix\n",
        "from sklearn.metrics import f1_score\n",
        "\n",
        "def getConfusionMatrix(resTuple, labels, model):\n",
        "  matrix = confusion_matrix(y_true = resTuple[0], y_pred = resTuple[1], labels = labels)\n",
        "  return (matrix, model)\n",
        "\n",
        "def getF1Score(resTuple, labels, model):\n",
        "  matrix = f1_score(y_true = resTuple[0], y_pred = resTuple[1], labels = labels, average = 'micro')\n",
        "  return (matrix, model)\n"
      ],
      "execution_count": 0,
      "outputs": []
    },
    {
      "cell_type": "code",
      "metadata": {
        "id": "tJmHvexhuuE9",
        "colab_type": "code",
        "outputId": "c4e1a302-9e6b-4483-805f-9c85141e8e12",
        "colab": {
          "base_uri": "https://localhost:8080/",
          "height": 34
        }
      },
      "source": [
        "allLabels(data_Y)"
      ],
      "execution_count": 0,
      "outputs": [
        {
          "output_type": "execute_result",
          "data": {
            "text/plain": [
              "[3, 1, -1, 0, 2, 4]"
            ]
          },
          "metadata": {
            "tags": []
          },
          "execution_count": 21
        }
      ]
    },
    {
      "cell_type": "code",
      "metadata": {
        "id": "PcSKT8KoxRBz",
        "colab_type": "code",
        "colab": {}
      },
      "source": [
        "from sklearn.preprocessing import OneHotEncoder\n",
        "enc = OneHotEncoder(handle_unknown='ignore')\n",
        "#X = [['Male', 1], ['Female', 3], ['Female', 2]]\n",
        "_y_train = enc.fit_transform(y_train)\n",
        "_y_test = enc.fit_transform(y_test)"
      ],
      "execution_count": 0,
      "outputs": []
    },
    {
      "cell_type": "code",
      "metadata": {
        "id": "XjrcuGayOapb",
        "colab_type": "code",
        "outputId": "23f9f977-096e-400d-bb06-42629ed252de",
        "colab": {
          "base_uri": "https://localhost:8080/",
          "height": 493
        }
      },
      "source": [
        "labels = allLabels(data_Y)\n",
        "modelList = ['SVC', 'LR', 'SGD', 'GNB']\n",
        "resTuples = [SVCModel(X_train, X_test, y_train, y_test),\\\n",
        "             LogisticRegressionModel(X_train, X_test, y_train, y_test),\\\n",
        "             SGDClassifierModel(X_train, X_test, y_train, y_test),\\\n",
        "             GaussianNBModel(X_train, X_test, y_train, y_test)\n",
        "            ]\n",
        "\n",
        "f = open(\"/content/result.csv\", \"w\")\n",
        "\n",
        "for i in range(len(resTuples)):\n",
        "  res1 = getConfusionMatrix(resTuple = resTuples[i], labels = labels, model = modelList[i])\n",
        "  res2 = getF1Score(resTuple = resTuples[i], labels = labels, model = modelList[i])\n",
        "  print(\"{}, {}, {}\\n\".format(res1[0], res2[0], res1[1]))\n",
        "  #f.write(\"{}, {}, {}\\n\".format(res1[0], res2[0], res1[1]))"
      ],
      "execution_count": 0,
      "outputs": [
        {
          "output_type": "stream",
          "text": [
            "[[390   5   0   0   1   0]\n",
            " [ 11 449  17   3   0   0]\n",
            " [  2  14 246   3   0   2]\n",
            " [  0   5   4 512   0   1]\n",
            " [  0   0   0   3 350   0]\n",
            " [  1   2  11   0   3  48]], 0.957753240518483, SVC\n",
            "\n",
            "[[390   5   0   0   1   0]\n",
            " [ 10 455  11   4   0   0]\n",
            " [  3  14 234   5   2   9]\n",
            " [  0   2   1 516   2   1]\n",
            " [  0   2   0   3 348   0]\n",
            " [  0   0  11   0   1  53]], 0.9582333173307729, LR\n",
            "\n",
            "[[393   2   0   0   1   0]\n",
            " [ 14 451  14   0   1   0]\n",
            " [  4  11 248   2   0   2]\n",
            " [  0   4   5 507   5   1]\n",
            " [  0   3   0   1 349   0]\n",
            " [  1   4  14   0   3  43]], 0.9558329332693231, SGD\n",
            "\n",
            "[[360  18   3   1   6   8]\n",
            " [ 10 340  52  28  19  31]\n",
            " [  0  61 158  13   7  28]\n",
            " [  0  47  29 399  39   8]\n",
            " [  0  37   9  17 289   1]\n",
            " [  0   3   3  12   3  44]], 0.7633221315410466, GNB\n",
            "\n"
          ],
          "name": "stdout"
        }
      ]
    },
    {
      "cell_type": "code",
      "metadata": {
        "id": "diT33AtgVLXe",
        "colab_type": "code",
        "outputId": "8404a739-5568-4646-a315-a73f20fcd667",
        "colab": {
          "base_uri": "https://localhost:8080/",
          "height": 391
        }
      },
      "source": [
        "from tensorflow import keras \n",
        "from tensorflow.keras import layers\n",
        "import tensorflow as tf\n",
        "from keras.models import Sequential\n",
        "from keras.layers import Dense\n",
        "import warnings\n",
        "\n",
        "warnings.filterwarnings('ignore')\n",
        "\n",
        "\n",
        "model = Sequential()\n",
        "model.add(Dense(units=200, activation='relu', input_dim=100))\n",
        "model.add(Dense(units=125, activation='relu'))\n",
        "model.add(Dense(units=100, activation='relu'))\n",
        "model.add(Dense(units=6, activation='sigmoid'))\n",
        "model.compile(loss='categorical_crossentropy',\n",
        "              optimizer='sgd',\n",
        "              metrics=['accuracy'])\n",
        "\n",
        "model.fit(X_train, _y_train, epochs=10, batch_size=32)\n",
        "loss_and_metrics = model.evaluate(X_test, _y_test, batch_size=128)\n",
        "\n",
        "loss_and_metrics\n"
      ],
      "execution_count": 0,
      "outputs": [
        {
          "output_type": "stream",
          "text": [
            "Epoch 1/10\n",
            "6246/6246 [==============================] - 1s 106us/step - loss: 1.3854 - acc: 0.4821\n",
            "Epoch 2/10\n",
            "6246/6246 [==============================] - 0s 62us/step - loss: 0.7693 - acc: 0.7565\n",
            "Epoch 3/10\n",
            "6246/6246 [==============================] - 0s 61us/step - loss: 0.5218 - acc: 0.8325\n",
            "Epoch 4/10\n",
            "6246/6246 [==============================] - 0s 62us/step - loss: 0.3922 - acc: 0.8753\n",
            "Epoch 5/10\n",
            "6246/6246 [==============================] - 0s 61us/step - loss: 0.3469 - acc: 0.8842\n",
            "Epoch 6/10\n",
            "6246/6246 [==============================] - 0s 60us/step - loss: 0.3128 - acc: 0.8995\n",
            "Epoch 7/10\n",
            "6246/6246 [==============================] - 0s 60us/step - loss: 0.2673 - acc: 0.9153\n",
            "Epoch 8/10\n",
            "6246/6246 [==============================] - 0s 63us/step - loss: 0.2667 - acc: 0.9209\n",
            "Epoch 9/10\n",
            "6246/6246 [==============================] - 0s 60us/step - loss: 0.2302 - acc: 0.9323\n",
            "Epoch 10/10\n",
            "6246/6246 [==============================] - 0s 62us/step - loss: 0.2199 - acc: 0.9313\n",
            "2083/2083 [==============================] - 0s 61us/step\n"
          ],
          "name": "stdout"
        },
        {
          "output_type": "execute_result",
          "data": {
            "text/plain": [
              "[0.20490543138677547, 0.9371099376758588]"
            ]
          },
          "metadata": {
            "tags": []
          },
          "execution_count": 24
        }
      ]
    }
  ]
}